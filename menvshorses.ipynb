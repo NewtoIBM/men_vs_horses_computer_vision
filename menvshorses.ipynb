{
 "cells": [
  {
   "cell_type": "code",
   "execution_count": 7,
   "metadata": {},
   "outputs": [],
   "source": [
    "%reload_ext tensorboard"
   ]
  },
  {
   "cell_type": "code",
   "execution_count": 8,
   "metadata": {
    "id": "bPGRFCALaZ6d"
   },
   "outputs": [],
   "source": [
    "import numpy as np \n",
    "import pandas as pd\n",
    "import tensorflow as tf\n",
    "from PIL import Image\n",
    "import glob\n",
    "import pathlib\n",
    "import PIL\n",
    "from io import BytesIO\n",
    "import seaborn as sns\n",
    "#%load_ext tensorboard\n",
    "from tensorflow import keras\n",
    "from keras import layers\n",
    "from tensorflow.keras import layers\n",
    "from keras_preprocessing import image\n",
    "from sklearn.utils import shuffle\n",
    "from sklearn import metrics\n",
    "from keras_preprocessing.image import ImageDataGenerator\n",
    "from keras.callbacks import EarlyStopping\n",
    "import matplotlib.pyplot as plt\n",
    "from urllib.request import urlopen\n",
    "import matplotlib.image as implt\n",
    "import time,datetime,keras,cv2,shutil,keras_preprocessing,requests\n",
    "from keras.models import Sequential \n",
    "from keras.layers import Dense, Dropout, Flatten, Conv2D, MaxPooling2D \n",
    "from tensorflow.keras.layers import BatchNormalization\n",
    "from sklearn.model_selection import train_test_split\n",
    "from sklearn.metrics import confusion_matrix"
   ]
  },
  {
   "cell_type": "code",
   "execution_count": 9,
   "metadata": {
    "id": "e7AtGY_XahZd"
   },
   "outputs": [],
   "source": [
    "# Data\n",
    "trainFolder = \"C://users/Administrator/Desktop/colabprojects/horse-or-human/train\"\n",
    "testFolder = \"C://users/Administrator/Desktop/colabprojects/horse-or-human/validation\""
   ]
  },
  {
   "cell_type": "code",
   "execution_count": 10,
   "metadata": {
    "id": "Hd174EG3akAY"
   },
   "outputs": [],
   "source": [
    "listLabels = labels = ['Horse','Human']"
   ]
  },
  {
   "cell_type": "code",
   "execution_count": 11,
   "metadata": {
    "id": "9FADbbjoamhX"
   },
   "outputs": [
    {
     "name": "stderr",
     "output_type": "stream",
     "text": [
      "C:\\ProgramData\\Anaconda3\\lib\\site-packages\\keras_preprocessing\\image\\image_data_generator.py:337: UserWarning: This ImageDataGenerator specifies `zca_whitening`, which overrides setting of `featurewise_center`.\n",
      "  warnings.warn('This ImageDataGenerator specifies '\n"
     ]
    },
    {
     "name": "stdout",
     "output_type": "stream",
     "text": [
      "Found 1027 images belonging to 2 classes.\n",
      "Found 256 images belonging to 2 classes.\n"
     ]
    }
   ],
   "source": [
    "# Image generator\n",
    "imageGenerator = ImageDataGenerator(\n",
    "    rescale = 1./255,\n",
    "    horizontal_flip=True,\n",
    "    zoom_range=0.15,\n",
    "    zca_whitening=True,\n",
    "    fill_mode='nearest')\n",
    "\n",
    "# training images\n",
    "trainImages = imageGenerator.flow_from_directory(\n",
    "    trainFolder,\n",
    "    target_size=(48,48),\n",
    "    class_mode='categorical'\n",
    ")\n",
    "\n",
    "\n",
    "\n",
    "# test Images\n",
    "testImages = ImageDataGenerator(rescale=1./255)\n",
    "testImages = imageGenerator.flow_from_directory(\n",
    "        testFolder,\n",
    "        target_size=(48, 48),\n",
    "        class_mode='categorical')"
   ]
  },
  {
   "cell_type": "code",
   "execution_count": 12,
   "metadata": {
    "id": "FPz2sUVFapes"
   },
   "outputs": [
    {
     "name": "stdout",
     "output_type": "stream",
     "text": [
      "Model: \"sequential\"\n",
      "_________________________________________________________________\n",
      " Layer (type)                Output Shape              Param #   \n",
      "=================================================================\n",
      " flatten (Flatten)           (None, 6912)              0         \n",
      "                                                                 \n",
      " batch_normalization (BatchN  (None, 6912)             27648     \n",
      " ormalization)                                                   \n",
      "                                                                 \n",
      " dense (Dense)               (None, 128)               884864    \n",
      "                                                                 \n",
      " batch_normalization_1 (Batc  (None, 128)              512       \n",
      " hNormalization)                                                 \n",
      "                                                                 \n",
      " dense_1 (Dense)             (None, 32)                4128      \n",
      "                                                                 \n",
      " dense_2 (Dense)             (None, 2)                 66        \n",
      "                                                                 \n",
      "=================================================================\n",
      "Total params: 917,218\n",
      "Trainable params: 903,138\n",
      "Non-trainable params: 14,080\n",
      "_________________________________________________________________\n"
     ]
    }
   ],
   "source": [
    "model = keras.Sequential(\n",
    "    [\n",
    "        keras.Input(shape=(48,48,3)),\n",
    "        layers.Flatten(),\n",
    "        layers.BatchNormalization(),\n",
    "        layers.Dense(128, activation=\"relu\"),\n",
    "        layers.BatchNormalization(),\n",
    "        layers.Dense(32, activation=\"relu\"),\n",
    "        layers.Dense(2, activation=\"softmax\"),\n",
    "    ]\n",
    ")\n",
    "\n",
    "model.build((48, 48))\n",
    "model.summary()\n",
    "#opt = keras.optimizers.Nadam(learning_rate=0.001, beta_1=0.9, beta_2=0.999)\n",
    "model.compile(loss = 'categorical_crossentropy', optimizer='adam', metrics=['accuracy'])"
   ]
  },
  {
   "cell_type": "code",
   "execution_count": 13,
   "metadata": {
    "id": "V1BpzZl5as3D"
   },
   "outputs": [
    {
     "name": "stderr",
     "output_type": "stream",
     "text": [
      "C:\\ProgramData\\Anaconda3\\lib\\site-packages\\keras_preprocessing\\image\\image_data_generator.py:720: UserWarning: This ImageDataGenerator specifies `featurewise_center`, but it hasn't been fit on any training data. Fit it first by calling `.fit(numpy_data)`.\n",
      "  warnings.warn('This ImageDataGenerator specifies '\n",
      "C:\\ProgramData\\Anaconda3\\lib\\site-packages\\keras_preprocessing\\image\\image_data_generator.py:739: UserWarning: This ImageDataGenerator specifies `zca_whitening`, but it hasn't been fit on any training data. Fit it first by calling `.fit(numpy_data)`.\n",
      "  warnings.warn('This ImageDataGenerator specifies '\n"
     ]
    },
    {
     "name": "stdout",
     "output_type": "stream",
     "text": [
      "Epoch 1/50\n",
      "33/33 [==============================] - ETA: 0s - loss: 0.4923 - accuracy: 0.8014\n",
      "33/33 [==============================] - 16s 447ms/step - loss: 0.4923 - accuracy: 0.8014 - val_loss: 4.9185 - val_accuracy: 0.5000\n",
      "Epoch 2/50\n",
      "33/33 [==============================] - 7s 225ms/step - loss: 0.2523 - accuracy: 0.9026 - val_loss: 3.0471 - val_accuracy: 0.5000\n",
      "Epoch 3/50\n",
      "33/33 [==============================] - 7s 221ms/step - loss: 0.1871 - accuracy: 0.9260 - val_loss: 0.6186 - val_accuracy: 0.7695\n",
      "Epoch 4/50\n",
      "33/33 [==============================] - 7s 227ms/step - loss: 0.1739 - accuracy: 0.9357 - val_loss: 0.7631 - val_accuracy: 0.7656\n",
      "Epoch 5/50\n",
      "33/33 [==============================] - 7s 222ms/step - loss: 0.1308 - accuracy: 0.9533 - val_loss: 0.8341 - val_accuracy: 0.7578\n",
      "Epoch 6/50\n",
      "33/33 [==============================] - 8s 240ms/step - loss: 0.1253 - accuracy: 0.9640 - val_loss: 0.2263 - val_accuracy: 0.9102\n",
      "Epoch 7/50\n",
      "33/33 [==============================] - 9s 274ms/step - loss: 0.1227 - accuracy: 0.9542 - val_loss: 0.3503 - val_accuracy: 0.9023\n",
      "Epoch 8/50\n",
      "33/33 [==============================] - 8s 253ms/step - loss: 0.1142 - accuracy: 0.9708 - val_loss: 0.7739 - val_accuracy: 0.8359\n",
      "Epoch 9/50\n",
      "33/33 [==============================] - 7s 221ms/step - loss: 0.1109 - accuracy: 0.9591 - val_loss: 0.6569 - val_accuracy: 0.8594\n"
     ]
    }
   ],
   "source": [
    "early_stop = keras.callbacks.EarlyStopping(monitor='val_loss', patience=3)\n",
    "\n",
    "class PrintDot(keras.callbacks.Callback):\n",
    "    def on_epoch_end(self, epoch, logs):\n",
    "        if epoch % 100 == 0: \n",
    "            print('')\n",
    "            print(\"Epoch\",epoch,'completed', end='')\n",
    "\n",
    "            \n",
    "qtyEpochs = 50\n",
    "history = model.fit(trainImages, validation_data=testImages,batch_size=50, shuffle=True, epochs=qtyEpochs, callbacks=[early_stop,PrintDot()], verbose=1)"
   ]
  },
  {
   "cell_type": "code",
   "execution_count": 14,
   "metadata": {
    "id": "WF6XRVORawi0"
   },
   "outputs": [
    {
     "name": "stderr",
     "output_type": "stream",
     "text": [
      "<ipython-input-14-bfa28deda51a>:1: UserWarning: `Model.evaluate_generator` is deprecated and will be removed in a future version. Please use `Model.evaluate`, which supports generators.\n",
      "  model_eval = model.evaluate_generator (\n"
     ]
    },
    {
     "name": "stdout",
     "output_type": "stream",
     "text": [
      "Model accuracy: 0.8671875\n",
      "Model loss: 0.6314261555671692\n"
     ]
    }
   ],
   "source": [
    "model_eval = model.evaluate_generator (\n",
    "    testImages,\n",
    "    verbose=0\n",
    ")\n",
    "\n",
    "print('Model accuracy:',model_eval[1])\n",
    "print('Model loss:',model_eval[0])"
   ]
  },
  {
   "cell_type": "code",
   "execution_count": 30,
   "metadata": {
    "id": "XWkFyYk5a-fu"
   },
   "outputs": [
    {
     "name": "stdout",
     "output_type": "stream",
     "text": [
      "Pred: Horse\n"
     ]
    }
   ],
   "source": [
    "Folder = \"C:/Users/Administrator/Desktop/horse01-9.png\"\n",
    "test01 = PIL.Image.open(Folder)\n",
    "test01 = test01.convert('RGB')\n",
    "test01 = test01.resize((48,48))\n",
    "test01_arr = np.asarray(test01) / 255\n",
    "pred = model.predict(np.array([test01_arr]))\n",
    "print(\"Pred:\",labels[pred.argmax(axis=-1)[0]])"
   ]
  },
  {
   "cell_type": "code",
   "execution_count": 31,
   "metadata": {},
   "outputs": [
    {
     "data": {
      "image/png": "[encoded data removed]",
      "text/plain": [
       "<PIL.Image.Image image mode=RGB size=48x48 at 0x21FEB0CBF10>"
      ]
     },
     "execution_count": 31,
     "metadata": {},
     "output_type": "execute_result"
    }
   ],
   "source": [
    "test01"
   ]
  },
  {
   "cell_type": "code",
   "execution_count": null,
   "metadata": {},
   "outputs": [],
   "source": []
  }
 ],
 "metadata": {
  "colab": {
   "collapsed_sections": [],
   "name": "menvshorses.ipynb",
   "provenance": []
  },
  "kernelspec": {
   "display_name": "Python 3",
   "language": "python",
   "name": "python3"
  },
  "language_info": {
   "codemirror_mode": {
    "name": "ipython",
    "version": 3
   },
   "file_extension": ".py",
   "mimetype": "text/x-python",
   "name": "python",
   "nbconvert_exporter": "python",
   "pygments_lexer": "ipython3",
   "version": "3.8.5"
  }
 },
 "nbformat": 4,
 "nbformat_minor": 1
}
