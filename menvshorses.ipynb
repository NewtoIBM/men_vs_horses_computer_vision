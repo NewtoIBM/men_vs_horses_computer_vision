{
  "nbformat": 4,
  "nbformat_minor": 0,
  "metadata": {
    "colab": {
      "name": "menvshorses.ipynb",
      "provenance": [],
      "collapsed_sections": []
    },
    "kernelspec": {
      "name": "python3",
      "display_name": "Python 3"
    },
    "language_info": {
      "name": "python"
    }
  },
  "cells": [
    {
      "cell_type": "code",
      "metadata": {
        "id": "bPGRFCALaZ6d"
      },
      "source": [
        "import numpy as np \n",
        "import pandas as pd\n",
        "import tensorflow as tf\n",
        "from tensorflow import keras\n",
        "from tensorflow.keras import layers\n",
        "from keras_preprocessing.image import ImageDataGenerator\n",
        "from keras.callbacks import EarlyStopping\n",
        "import matplotlib.pyplot as plt\n",
        "from PIL import Image\n",
        "from urllib.request import urlopen"
      ],
      "execution_count": null,
      "outputs": []
    },
    {
      "cell_type": "code",
      "metadata": {
        "id": "e7AtGY_XahZd"
      },
      "source": [
        "# Data\n",
        "trainFolder = \"C://users/Administrator/Desktop/horse-or-human/train\"\n",
        "testFolder = \"C://users/Administrator/Desktop/horse-or-human/validation\""
      ],
      "execution_count": null,
      "outputs": []
    },
    {
      "cell_type": "code",
      "metadata": {
        "id": "Hd174EG3akAY"
      },
      "source": [
        "listLabels = labels = ['Horse','Human']"
      ],
      "execution_count": null,
      "outputs": []
    },
    {
      "cell_type": "code",
      "metadata": {
        "id": "9FADbbjoamhX"
      },
      "source": [
        "# Image generator\n",
        "imageGenerator = ImageDataGenerator(\n",
        "    rescale = 1./255,\n",
        "    horizontal_flip=True,\n",
        "    zoom_range=0.15,\n",
        "    zca_whitening=True,\n",
        "    fill_mode='nearest')\n",
        "\n",
        "# training images\n",
        "trainImages = imageGenerator.flow_from_directory(\n",
        "    trainFolder,\n",
        "    target_size=(48,48),\n",
        "    class_mode='categorical'\n",
        ")\n",
        "\n",
        "\n",
        "\n",
        "# test Images\n",
        "testImages = ImageDataGenerator(rescale=1./255)\n",
        "testImages = imageGenerator.flow_from_directory(\n",
        "        testFolder,\n",
        "        target_size=(48, 48),\n",
        "        class_mode='categorical')"
      ],
      "execution_count": null,
      "outputs": []
    },
    {
      "cell_type": "code",
      "metadata": {
        "id": "FPz2sUVFapes"
      },
      "source": [
        "model = keras.Sequential(\n",
        "    [\n",
        "        keras.Input(shape=(48,48,3)),\n",
        "        layers.Flatten(),\n",
        "        layers.BatchNormalization(),\n",
        "        layers.Dense(128, activation=\"relu\"),\n",
        "        layers.BatchNormalization(),\n",
        "        layers.Dense(32, activation=\"relu\"),\n",
        "        layers.Dense(2, activation=\"softmax\"),\n",
        "    ]\n",
        ")\n",
        "\n",
        "model.build((48, 48))\n",
        "model.summary()\n",
        "#opt = keras.optimizers.Nadam(learning_rate=0.001, beta_1=0.9, beta_2=0.999)\n",
        "model.compile(loss = 'categorical_crossentropy', optimizer='adam', metrics=['accuracy'])"
      ],
      "execution_count": null,
      "outputs": []
    },
    {
      "cell_type": "code",
      "metadata": {
        "id": "V1BpzZl5as3D"
      },
      "source": [
        "early_stop = keras.callbacks.EarlyStopping(monitor='val_loss', patience=3)\n",
        "\n",
        "class PrintDot(keras.callbacks.Callback):\n",
        "    def on_epoch_end(self, epoch, logs):\n",
        "        if epoch % 100 == 0: \n",
        "            print('')\n",
        "            print(\"Epoch\",epoch,'completed', end='')\n",
        "\n",
        "            \n",
        "qtyEpochs = 50\n",
        "history = model.fit(trainImages, validation_data=testImages,batch_size=50, shuffle=True, epochs=qtyEpochs, callbacks=[early_stop,PrintDot()], verbose=1)"
      ],
      "execution_count": null,
      "outputs": []
    },
    {
      "cell_type": "code",
      "metadata": {
        "id": "WF6XRVORawi0"
      },
      "source": [
        "model_eval = model.evaluate_generator (\n",
        "    testImages,\n",
        "    verbose=0\n",
        ")\n",
        "\n",
        "print('Model accuracy:',model_eval[1])\n",
        "print('Model loss:',model_eval[0])"
      ],
      "execution_count": null,
      "outputs": []
    },
    {
      "cell_type": "code",
      "metadata": {
        "id": "I4BXh4GMaz53"
      },
      "source": [
        "# os.environ[\"CUDA_VISIBLE_DEVICES\"] = \"-1\" # To use local CPU instead of local GPU\n",
        "import numpy as np\n",
        "import pandas as pd\n",
        "import matplotlib.pyplot as plt\n",
        "import matplotlib.image as implt\n",
        "from PIL import Image \n",
        "import time,datetime,keras,cv2,shutil,keras_preprocessing,requests\n",
        "import tensorflow as tf\n",
        "from keras import layers\n",
        "from keras.models import Sequential \n",
        "from keras.layers import Dense, Dropout, Flatten, Conv2D, MaxPooling2D \n",
        "from keras.layers.normalization import BatchNormalization\n",
        "from keras.callbacks import EarlyStopping\n",
        "from keras_preprocessing import image\n",
        "from keras_preprocessing.image import ImageDataGenerator\n",
        "from sklearn.utils import shuffle\n",
        "from sklearn import metrics\n",
        "from sklearn.model_selection import train_test_split\n",
        "from sklearn.metrics import confusion_matrix\n",
        "from io import BytesIO\n",
        "import seaborn as sns\n",
        "%load_ext tensorboard"
      ],
      "execution_count": null,
      "outputs": []
    },
    {
      "cell_type": "code",
      "metadata": {
        "id": "GnES57Lva3Cp"
      },
      "source": [
        "import urllib.request\n",
        "from PIL import Image\n",
        "image = \"https://storage.googleapis.com/filesbucketep/horse3-498.png\"\n",
        "test01 = Image.open(urllib.request.urlopen(image))\n",
        "test01"
      ],
      "execution_count": null,
      "outputs": []
    },
    {
      "cell_type": "code",
      "metadata": {
        "id": "XWkFyYk5a-fu"
      },
      "source": [
        "test01 = test01.convert('RGB')\n",
        "test01 = test01.resize((48,48))\n",
        "test01_arr = np.asarray(test01) / 255\n",
        "pred = model.predict(np.array([test01_arr]))\n",
        "print(\"Pred:\",labels[pred.argmax(axis=-1)[0]])"
      ],
      "execution_count": null,
      "outputs": []
    }
  ]
}